{
  "nbformat": 4,
  "nbformat_minor": 0,
  "metadata": {
    "colab": {
      "provenance": [],
      "collapsed_sections": [
        "Zg6X9Aqufpgp"
      ]
    },
    "kernelspec": {
      "name": "python3",
      "display_name": "Python 3"
    },
    "language_info": {
      "name": "python"
    }
  },
  "cells": [
    {
      "cell_type": "markdown",
      "source": [
        "# TMNIST (Typeface MNIST)"
      ],
      "metadata": {
        "id": "Zg6X9Aqufpgp"
      }
    },
    {
      "cell_type": "markdown",
      "source": [
        "# Abstract\n",
        "\n",
        "The dataset consists of a collection of digital images depicting numeric digits, with values ranging from 0 to 9. The images were created using a total of 2,990 font files obtained from Google. This dataset is inspired by the widely recognized MNIST database, which also comprises images of handwritten numerical digits.\n",
        "\n",
        "The dataset encompasses a total of 29,900 samples, each annotated with a corresponding numerical label and the name of the font that was utilized to generate the image. The dataset is organized such that every row consists of 786 features: the first feature designates the font name (e.g., Chivo-Italic, Sen-Bold), the second feature designates the label (a digit between 0 and 9), and the remaining 784 features denote the grayscale pixel values (ranging from 0 to 255) that collectively form a 28x28 pixel image.\n",
        "\n",
        "Kaggle Link: https://www.kaggle.com/datasets/nimishmagre/tmnist-typeface-mnist"
      ],
      "metadata": {
        "id": "WJ5t_St9ltl2"
      }
    },
    {
      "cell_type": "markdown",
      "source": [
        "## Installing all the required Libraries"
      ],
      "metadata": {
        "id": "mtYhe4xBoXQP"
      }
    },
    {
      "cell_type": "code",
      "source": [
        "!pip install numpy\n",
        "!pip install tensorflow\n",
        "!pip install keras"
      ],
      "metadata": {
        "colab": {
          "base_uri": "https://localhost:8080/"
        },
        "id": "rLfUuksvwv5I",
        "outputId": "f4f70282-05e9-4b2f-f194-5aeba9560500"
      },
      "execution_count": 1,
      "outputs": [
        {
          "output_type": "stream",
          "name": "stdout",
          "text": [
            "Looking in indexes: https://pypi.org/simple, https://us-python.pkg.dev/colab-wheels/public/simple/\n",
            "Requirement already satisfied: numpy in /usr/local/lib/python3.9/dist-packages (1.22.4)\n",
            "Looking in indexes: https://pypi.org/simple, https://us-python.pkg.dev/colab-wheels/public/simple/\n",
            "Requirement already satisfied: tensorflow in /usr/local/lib/python3.9/dist-packages (2.12.0)\n",
            "Requirement already satisfied: setuptools in /usr/local/lib/python3.9/dist-packages (from tensorflow) (67.6.1)\n",
            "Requirement already satisfied: wrapt<1.15,>=1.11.0 in /usr/local/lib/python3.9/dist-packages (from tensorflow) (1.14.1)\n",
            "Requirement already satisfied: protobuf!=4.21.0,!=4.21.1,!=4.21.2,!=4.21.3,!=4.21.4,!=4.21.5,<5.0.0dev,>=3.20.3 in /usr/local/lib/python3.9/dist-packages (from tensorflow) (3.20.3)\n",
            "Requirement already satisfied: keras<2.13,>=2.12.0 in /usr/local/lib/python3.9/dist-packages (from tensorflow) (2.12.0)\n",
            "Requirement already satisfied: gast<=0.4.0,>=0.2.1 in /usr/local/lib/python3.9/dist-packages (from tensorflow) (0.4.0)\n",
            "Requirement already satisfied: google-pasta>=0.1.1 in /usr/local/lib/python3.9/dist-packages (from tensorflow) (0.2.0)\n",
            "Requirement already satisfied: typing-extensions>=3.6.6 in /usr/local/lib/python3.9/dist-packages (from tensorflow) (4.5.0)\n",
            "Requirement already satisfied: packaging in /usr/local/lib/python3.9/dist-packages (from tensorflow) (23.0)\n",
            "Requirement already satisfied: tensorflow-io-gcs-filesystem>=0.23.1 in /usr/local/lib/python3.9/dist-packages (from tensorflow) (0.32.0)\n",
            "Requirement already satisfied: libclang>=13.0.0 in /usr/local/lib/python3.9/dist-packages (from tensorflow) (16.0.0)\n",
            "Requirement already satisfied: six>=1.12.0 in /usr/local/lib/python3.9/dist-packages (from tensorflow) (1.16.0)\n",
            "Requirement already satisfied: opt-einsum>=2.3.2 in /usr/local/lib/python3.9/dist-packages (from tensorflow) (3.3.0)\n",
            "Requirement already satisfied: h5py>=2.9.0 in /usr/local/lib/python3.9/dist-packages (from tensorflow) (3.8.0)\n",
            "Requirement already satisfied: absl-py>=1.0.0 in /usr/local/lib/python3.9/dist-packages (from tensorflow) (1.4.0)\n",
            "Requirement already satisfied: tensorflow-estimator<2.13,>=2.12.0 in /usr/local/lib/python3.9/dist-packages (from tensorflow) (2.12.0)\n",
            "Requirement already satisfied: termcolor>=1.1.0 in /usr/local/lib/python3.9/dist-packages (from tensorflow) (2.2.0)\n",
            "Requirement already satisfied: jax>=0.3.15 in /usr/local/lib/python3.9/dist-packages (from tensorflow) (0.4.8)\n",
            "Requirement already satisfied: astunparse>=1.6.0 in /usr/local/lib/python3.9/dist-packages (from tensorflow) (1.6.3)\n",
            "Requirement already satisfied: grpcio<2.0,>=1.24.3 in /usr/local/lib/python3.9/dist-packages (from tensorflow) (1.53.0)\n",
            "Requirement already satisfied: tensorboard<2.13,>=2.12 in /usr/local/lib/python3.9/dist-packages (from tensorflow) (2.12.1)\n",
            "Requirement already satisfied: numpy<1.24,>=1.22 in /usr/local/lib/python3.9/dist-packages (from tensorflow) (1.22.4)\n",
            "Requirement already satisfied: flatbuffers>=2.0 in /usr/local/lib/python3.9/dist-packages (from tensorflow) (23.3.3)\n",
            "Requirement already satisfied: wheel<1.0,>=0.23.0 in /usr/local/lib/python3.9/dist-packages (from astunparse>=1.6.0->tensorflow) (0.40.0)\n",
            "Requirement already satisfied: scipy>=1.7 in /usr/local/lib/python3.9/dist-packages (from jax>=0.3.15->tensorflow) (1.10.1)\n",
            "Requirement already satisfied: ml-dtypes>=0.0.3 in /usr/local/lib/python3.9/dist-packages (from jax>=0.3.15->tensorflow) (0.0.4)\n",
            "Requirement already satisfied: google-auth<3,>=1.6.3 in /usr/local/lib/python3.9/dist-packages (from tensorboard<2.13,>=2.12->tensorflow) (2.17.2)\n",
            "Requirement already satisfied: markdown>=2.6.8 in /usr/local/lib/python3.9/dist-packages (from tensorboard<2.13,>=2.12->tensorflow) (3.4.3)\n",
            "Requirement already satisfied: requests<3,>=2.21.0 in /usr/local/lib/python3.9/dist-packages (from tensorboard<2.13,>=2.12->tensorflow) (2.27.1)\n",
            "Requirement already satisfied: tensorboard-plugin-wit>=1.6.0 in /usr/local/lib/python3.9/dist-packages (from tensorboard<2.13,>=2.12->tensorflow) (1.8.1)\n",
            "Requirement already satisfied: werkzeug>=1.0.1 in /usr/local/lib/python3.9/dist-packages (from tensorboard<2.13,>=2.12->tensorflow) (2.2.3)\n",
            "Requirement already satisfied: google-auth-oauthlib<1.1,>=0.5 in /usr/local/lib/python3.9/dist-packages (from tensorboard<2.13,>=2.12->tensorflow) (1.0.0)\n",
            "Requirement already satisfied: tensorboard-data-server<0.8.0,>=0.7.0 in /usr/local/lib/python3.9/dist-packages (from tensorboard<2.13,>=2.12->tensorflow) (0.7.0)\n",
            "Requirement already satisfied: pyasn1-modules>=0.2.1 in /usr/local/lib/python3.9/dist-packages (from google-auth<3,>=1.6.3->tensorboard<2.13,>=2.12->tensorflow) (0.2.8)\n",
            "Requirement already satisfied: cachetools<6.0,>=2.0.0 in /usr/local/lib/python3.9/dist-packages (from google-auth<3,>=1.6.3->tensorboard<2.13,>=2.12->tensorflow) (5.3.0)\n",
            "Requirement already satisfied: rsa<5,>=3.1.4 in /usr/local/lib/python3.9/dist-packages (from google-auth<3,>=1.6.3->tensorboard<2.13,>=2.12->tensorflow) (4.9)\n",
            "Requirement already satisfied: requests-oauthlib>=0.7.0 in /usr/local/lib/python3.9/dist-packages (from google-auth-oauthlib<1.1,>=0.5->tensorboard<2.13,>=2.12->tensorflow) (1.3.1)\n",
            "Requirement already satisfied: importlib-metadata>=4.4 in /usr/local/lib/python3.9/dist-packages (from markdown>=2.6.8->tensorboard<2.13,>=2.12->tensorflow) (6.3.0)\n",
            "Requirement already satisfied: charset-normalizer~=2.0.0 in /usr/local/lib/python3.9/dist-packages (from requests<3,>=2.21.0->tensorboard<2.13,>=2.12->tensorflow) (2.0.12)\n",
            "Requirement already satisfied: certifi>=2017.4.17 in /usr/local/lib/python3.9/dist-packages (from requests<3,>=2.21.0->tensorboard<2.13,>=2.12->tensorflow) (2022.12.7)\n",
            "Requirement already satisfied: urllib3<1.27,>=1.21.1 in /usr/local/lib/python3.9/dist-packages (from requests<3,>=2.21.0->tensorboard<2.13,>=2.12->tensorflow) (1.26.15)\n",
            "Requirement already satisfied: idna<4,>=2.5 in /usr/local/lib/python3.9/dist-packages (from requests<3,>=2.21.0->tensorboard<2.13,>=2.12->tensorflow) (3.4)\n",
            "Requirement already satisfied: MarkupSafe>=2.1.1 in /usr/local/lib/python3.9/dist-packages (from werkzeug>=1.0.1->tensorboard<2.13,>=2.12->tensorflow) (2.1.2)\n",
            "Requirement already satisfied: zipp>=0.5 in /usr/local/lib/python3.9/dist-packages (from importlib-metadata>=4.4->markdown>=2.6.8->tensorboard<2.13,>=2.12->tensorflow) (3.15.0)\n",
            "Requirement already satisfied: pyasn1<0.5.0,>=0.4.6 in /usr/local/lib/python3.9/dist-packages (from pyasn1-modules>=0.2.1->google-auth<3,>=1.6.3->tensorboard<2.13,>=2.12->tensorflow) (0.4.8)\n",
            "Requirement already satisfied: oauthlib>=3.0.0 in /usr/local/lib/python3.9/dist-packages (from requests-oauthlib>=0.7.0->google-auth-oauthlib<1.1,>=0.5->tensorboard<2.13,>=2.12->tensorflow) (3.2.2)\n",
            "Looking in indexes: https://pypi.org/simple, https://us-python.pkg.dev/colab-wheels/public/simple/\n",
            "Requirement already satisfied: keras in /usr/local/lib/python3.9/dist-packages (2.12.0)\n"
          ]
        }
      ]
    },
    {
      "cell_type": "code",
      "execution_count": 2,
      "metadata": {
        "id": "SU8b1TtqlqDA"
      },
      "outputs": [],
      "source": [
        "from keras.datasets import mnist\n",
        "\n",
        "# from keras.utils import to_categorical\n",
        "import numpy as np\n",
        "\n",
        "# from tensorflow.keras.utils import to_categorical\n",
        "from keras.models import Sequential\n",
        "\n",
        "# from keras.utils.np_utils import to_categorical\n",
        "from keras.utils import np_utils\n",
        "from keras import layers\n",
        "from keras import models\n",
        "import tensorflow"
      ]
    },
    {
      "cell_type": "code",
      "source": [
        "import pandas as pd\n",
        "import numpy as np\n",
        "from sklearn.model_selection import train_test_split\n",
        "import matplotlib.pyplot as plt"
      ],
      "metadata": {
        "id": "YW8it8PXozjw"
      },
      "execution_count": 3,
      "outputs": []
    },
    {
      "cell_type": "markdown",
      "source": [
        "## Importing Data"
      ],
      "metadata": {
        "id": "3N_DYGrRpFZz"
      }
    },
    {
      "cell_type": "code",
      "source": [
        "np.random.seed(99)\n",
        "ds = pd.read_csv('https://raw.githubusercontent.com/Shreyasi632/Neural_Network/main/TMNIST_Data%20-%20Typeface_MNIST.csv')\n",
        "list_ = ds.values.tolist()\n",
        "\n",
        "data = []\n",
        "c = []\n",
        "d = []\n",
        "training_data = []\n",
        "training_label = []\n",
        "test_data = []\n",
        "test_label = []"
      ],
      "metadata": {
        "id": "WHam3LWoo3oa"
      },
      "execution_count": 4,
      "outputs": []
    },
    {
      "cell_type": "markdown",
      "source": [
        "Initializing empty lists called data, c, d, train_data, train_label, test_data and test_label that will be used to store the data."
      ],
      "metadata": {
        "id": "XgONasdQCTmS"
      }
    },
    {
      "cell_type": "code",
      "source": [
        "for i in range(len(list_)):\n",
        "    label = list_[i][1]\n",
        "    a = list_[i][2:]\n",
        "    a = np.array(a)\n",
        "    a = a.reshape(28, 28).tolist()\n",
        "    c.append(a)\n",
        "    d.append(label)\n",
        "training_data, test_data, training_label, test_label = train_test_split(\n",
        "    c, d, test_size=0.25, random_state=1\n",
        ")"
      ],
      "metadata": {
        "id": "k5ubBquopU4j"
      },
      "execution_count": 5,
      "outputs": []
    },
    {
      "cell_type": "markdown",
      "source": [
        "The above code loops over each row in the dataset, extract the label and image data, reshape the image data to a 28x28 matrix, convert it to a list, and append them to the c and d lists, respectively. Further the code splits the c and d lists into training and testing sets in a ratio of 1:4."
      ],
      "metadata": {
        "id": "xvdeYjP9tYN6"
      }
    },
    {
      "cell_type": "code",
      "source": [
        "# Checking the length of training and test dataset\n",
        "print(\"Length of Training dataset: \", len(training_data))\n",
        "print(\"Length of Test dataset: \", len(test_data))"
      ],
      "metadata": {
        "colab": {
          "base_uri": "https://localhost:8080/"
        },
        "id": "U5ilgQolqF0L",
        "outputId": "0b8a6282-f426-4cbf-c94f-754afe1a5f06"
      },
      "execution_count": 6,
      "outputs": [
        {
          "output_type": "stream",
          "name": "stdout",
          "text": [
            "Length of Training dataset:  22425\n",
            "Length of Test dataset:  7475\n"
          ]
        }
      ]
    },
    {
      "cell_type": "code",
      "source": [
        "ds['names'].value_counts()"
      ],
      "metadata": {
        "colab": {
          "base_uri": "https://localhost:8080/"
        },
        "id": "Ed0V1Yq8qPVd",
        "outputId": "23a94cae-1417-4430-f748-13f045f3b426"
      },
      "execution_count": 7,
      "outputs": [
        {
          "output_type": "execute_result",
          "data": {
            "text/plain": [
              "GrandHotel-Regular          10\n",
              "Laila-Regular               10\n",
              "Tajawal-Medium              10\n",
              "Numans-Regular              10\n",
              "PT_Sans-Web-Italic          10\n",
              "                            ..\n",
              "Thasadith-Bold              10\n",
              "CherryBomb-Regular          10\n",
              "NotoSansOriyaUI-Thin        10\n",
              "Kodchasan-SemiBoldItalic    10\n",
              "AveriaSerifLibre-Ligh       10\n",
              "Name: names, Length: 2990, dtype: int64"
            ]
          },
          "metadata": {},
          "execution_count": 7
        }
      ]
    },
    {
      "cell_type": "code",
      "source": [
        "# plotting 4 images in a 2x2 grid\n",
        "plt.subplot(221)\n",
        "plt.imshow(training_data[0], cmap=plt.get_cmap(\"gray\"))\n",
        "plt.subplot(222)\n",
        "plt.imshow(training_data[1], cmap=plt.get_cmap(\"gray\"))\n",
        "plt.subplot(223)\n",
        "plt.imshow(training_data[2], cmap=plt.get_cmap(\"gray\"))\n",
        "plt.subplot(224)\n",
        "plt.imshow(training_data[3], cmap=plt.get_cmap(\"gray\"))\n",
        "plt.show()"
      ],
      "metadata": {
        "colab": {
          "base_uri": "https://localhost:8080/",
          "height": 432
        },
        "id": "-v_Idfr_qaKi",
        "outputId": "169b463e-314e-4db8-e5a0-cbd090f01be0"
      },
      "execution_count": 8,
      "outputs": [
        {
          "output_type": "display_data",
          "data": {
            "text/plain": [
              "<Figure size 640x480 with 4 Axes>"
            ],
            "image/png": "[encoded data removed]"
          },
          "metadata": {}
        }
      ]
    },
    {
      "cell_type": "markdown",
      "source": [
        "The elements at 0,1,2 and 3 index of the training_data list have be plotted."
      ],
      "metadata": {
        "id": "nz95ZPouyF6X"
      }
    },
    {
      "cell_type": "markdown",
      "source": [
        "## Data Preprocessing"
      ],
      "metadata": {
        "id": "SO-XsnGRVXei"
      }
    },
    {
      "cell_type": "markdown",
      "source": [
        "Converting training_data, test_data, training_label and test_label to array so that they can be used as input to neural network "
      ],
      "metadata": {
        "id": "3_2XWgt5y-BX"
      }
    },
    {
      "cell_type": "code",
      "source": [
        "# Convert the list for data preprocessing\n",
        "training_data = np.array(training_data)\n",
        "test_data = np.array(test_data)\n",
        "training_label = np.array(training_label)\n",
        "test_label = np.array(test_label)"
      ],
      "metadata": {
        "id": "YEIrA1zqqfO7"
      },
      "execution_count": 9,
      "outputs": []
    },
    {
      "cell_type": "markdown",
      "source": [
        "## Reshaping the train and test data "
      ],
      "metadata": {
        "id": "bcgDRJ9mVgGo"
      }
    },
    {
      "cell_type": "code",
      "source": [
        "#Reshaping the training and test data and converting it in standardized float format \n",
        "training_data = training_data.reshape((22425, 28, 28, 1))\n",
        "training_data = training_data.astype('float32') / 255\n",
        "\n",
        "test_data = test_data.reshape((7475, 28, 28, 1))\n",
        "test_data = test_data.astype('float32') / 255\n",
        "\n",
        "# Convert class vector to a binary class\n",
        "training_label = tensorflow.keras.utils.to_categorical(training_label)\n",
        "test_label = tensorflow.keras.utils.to_categorical(test_label)"
      ],
      "metadata": {
        "id": "Q_Mk-EbKVg49"
      },
      "execution_count": 11,
      "outputs": []
    },
    {
      "cell_type": "markdown",
      "source": [
        "The above code reshapes the train and test data to the desired shape and converts it into a standardized float format. It also converts the class vector into a binary class using the to_categorical function from the tensorflow.keras.utils "
      ],
      "metadata": {
        "id": "juaVNY9rsvq4"
      }
    },
    {
      "cell_type": "markdown",
      "source": [
        "## Building the Model\n",
        "Building a sequential CNN model with 2 layers with a pool size of 3 * 3 to calculate the maximum/largest value in the map with 1 input and 1 output layer. ReLU is used as an activation fuction which performs on multi layer Neural Network for better performance on 28*28 input frame. finally we are using Softmax function in the output laye to turn vector of real value to probability distribution."
      ],
      "metadata": {
        "id": "29ifpiR9WOMq"
      }
    },
    {
      "cell_type": "code",
      "source": [
        "# Using Sequential model\n",
        "model = models.Sequential()\n",
        "\n",
        "#1st layer using a 3*3 kernel, a 2*2 pool, and a ReLU activation function for a 28*28 shape input image\n",
        "model.add(layers.Conv2D(32, (3, 3), activation=\"relu\", input_shape=(28, 28, 1)))\n",
        "model.add(layers.MaxPooling2D((2, 2)))\n",
        "\n",
        "#2nd layer using a 3*3 kernel, a 2*2 pool, and a ReLU activation function for a 28*28 shape input image\n",
        "model.add(layers.Conv2D(64, (3, 3), activation=\"relu\"))\n",
        "model.add(layers.MaxPooling2D((2, 2)))\n",
        "model.add(layers.Conv2D(64, (3, 3), activation=\"relu\"))\n",
        "\n",
        "#Flattening the inputs\n",
        "model.add(layers.Flatten())\n",
        "\n",
        "#Densely connected NN\n",
        "model.add(layers.Dense(64, activation=\"relu\"))\n",
        "model.add(layers.Dense(10, activation=\"softmax\"))\n",
        "model.summary()"
      ],
      "metadata": {
        "colab": {
          "base_uri": "https://localhost:8080/"
        },
        "id": "Z-6gD5GfWQGK",
        "outputId": "745afaeb-3b82-4900-b496-c8f3797aa3d4"
      },
      "execution_count": 12,
      "outputs": [
        {
          "output_type": "stream",
          "name": "stdout",
          "text": [
            "Model: \"sequential\"\n",
            "_________________________________________________________________\n",
            " Layer (type)                Output Shape              Param #   \n",
            "=================================================================\n",
            " conv2d (Conv2D)             (None, 26, 26, 32)        320       \n",
            "                                                                 \n",
            " max_pooling2d (MaxPooling2D  (None, 13, 13, 32)       0         \n",
            " )                                                               \n",
            "                                                                 \n",
            " conv2d_1 (Conv2D)           (None, 11, 11, 64)        18496     \n",
            "                                                                 \n",
            " max_pooling2d_1 (MaxPooling  (None, 5, 5, 64)         0         \n",
            " 2D)                                                             \n",
            "                                                                 \n",
            " conv2d_2 (Conv2D)           (None, 3, 3, 64)          36928     \n",
            "                                                                 \n",
            " flatten (Flatten)           (None, 576)               0         \n",
            "                                                                 \n",
            " dense (Dense)               (None, 64)                36928     \n",
            "                                                                 \n",
            " dense_1 (Dense)             (None, 10)                650       \n",
            "                                                                 \n",
            "=================================================================\n",
            "Total params: 93,322\n",
            "Trainable params: 93,322\n",
            "Non-trainable params: 0\n",
            "_________________________________________________________________\n"
          ]
        }
      ]
    },
    {
      "cell_type": "markdown",
      "source": [
        "The model has a total of 93,322 parameters, which are all trainable. The network design is composed of two convolutional layers, two max-pooling layers, and one dense layer at the bottom. \n",
        "\n",
        "\n",
        "\n",
        "- The first convolutional layer has 32 filters with a kernel size of 3x3 and ReLU activation function.  The output shape of this layer is (None, 26, 26, 32), which means that it takes an input with a shape of (None, 28, 28, 1) and produces a feature map with a shape of (None, 26, 26, 32).\n",
        "\n",
        "- The max-pooling layer has a pool size of 2x2, which reduces the dimensions of the feature maps by half. The output shape of this layer is (None, 13, 13, 32).\n",
        "\n",
        "- The second convolutional layer has 64 filters with a kernel size of 3x3 and ReLU activation function. Another max-pooling layer is then applied with the same pool size of 2x2. A third convolutional layer with 64 filters and a kernel size of 3x3 is then added to the model.\n",
        "\n",
        "- The output of the convolutional layers is flattened into a 1D array with a shape of (None, 576) using the Flatten layer, and then passed through two dense layers with ReLU activation function. \n",
        "\n",
        "- The final dense layer has 10 neurons, corresponding to the 10 possible image categories, and uses the softmax activation function to output a probability distribution over the categories."
      ],
      "metadata": {
        "id": "uWsAiGejxYnG"
      }
    },
    {
      "cell_type": "markdown",
      "source": [
        "## Training the Model\n",
        "\n",
        "These two lines of code compile and train the model respectively. We will be using rmsprop optimizer with categorical_crossentropy loss function and Accuracy for performance metrics. The fit() function trains the model on the training dataset. The training_data and training_label are the input and output data respectively, while the validation_split parameter specifies the fraction of the training data to be used as validation data during training. The epochs parameter specifies the number of times the model is trained on the entire dataset, while the batch_size parameter specifies the number of samples used in each training iteration.\n",
        "\n",
        "In this case we are using 20% validation split and 5 Epochs with 64 batch size input. At each iteration, we can see that Accuracy is increasing and loss is decreasing in both training and validation"
      ],
      "metadata": {
        "id": "fp3ScJUEXLvk"
      }
    },
    {
      "cell_type": "code",
      "source": [
        "model.compile(optimizer='rmsprop',loss='categorical_crossentropy', metrics=['accuracy'])\n",
        "\n",
        "history = model.fit(training_data, training_label, validation_split=0.20,epochs=5, batch_size=64)"
      ],
      "metadata": {
        "colab": {
          "base_uri": "https://localhost:8080/"
        },
        "id": "raMNRlfmXRSe",
        "outputId": "d61f884f-cd16-43bb-e0ad-aa4afb0df9be"
      },
      "execution_count": 13,
      "outputs": [
        {
          "output_type": "stream",
          "name": "stdout",
          "text": [
            "Epoch 1/5\n",
            "281/281 [==============================] - 23s 78ms/step - loss: 0.2793 - accuracy: 0.9158 - val_loss: 0.1662 - val_accuracy: 0.9494\n",
            "Epoch 2/5\n",
            "281/281 [==============================] - 28s 101ms/step - loss: 0.0657 - accuracy: 0.9803 - val_loss: 0.0560 - val_accuracy: 0.9833\n",
            "Epoch 3/5\n",
            "281/281 [==============================] - 19s 68ms/step - loss: 0.0437 - accuracy: 0.9874 - val_loss: 0.0576 - val_accuracy: 0.9857\n",
            "Epoch 4/5\n",
            "281/281 [==============================] - 21s 75ms/step - loss: 0.0298 - accuracy: 0.9905 - val_loss: 0.0743 - val_accuracy: 0.9799\n",
            "Epoch 5/5\n",
            "281/281 [==============================] - 19s 68ms/step - loss: 0.0222 - accuracy: 0.9928 - val_loss: 0.0525 - val_accuracy: 0.9877\n"
          ]
        }
      ]
    },
    {
      "cell_type": "markdown",
      "source": [
        "This output shows the training and validation accuracy and loss for each epoch of the training process.\n",
        "\n",
        "- In the first epoch, for instance, the training loss was 0.2793 and the accuracy of the training was 0.9158, while the validation loss was 0.1662 and the accuracy of the validation was 0.9494. Hence, the model demonstrated good performance on both the training and validation sets, with a little greater accuracy on the training set.\n",
        "\n",
        "- The results for the other epochs demonstrate how the model's performance increased over time in a similar manner. For example, in the second epoch, the loss dropped while the training and validation accuracy climbed to 0.9803 and 0.9833, respectively.\n",
        "\n",
        "During the course of the five epochs, the loss dropped while the training and validation accuracy increased overall, suggesting that the model is adapting to the task and getting better at it."
      ],
      "metadata": {
        "id": "f-UWrdcH6124"
      }
    },
    {
      "cell_type": "markdown",
      "source": [
        "## Visualizing the Model\n",
        "\n",
        "Plotting the training loss and accuracy over the number of epochs."
      ],
      "metadata": {
        "id": "3pzOhlMIlviM"
      }
    },
    {
      "cell_type": "code",
      "source": [
        "loss = history.history[\"loss\"]\n",
        "acc = history.history[\"accuracy\"]\n",
        "epochs = range(1, len(loss) + 1)\n",
        "plt.figure()\n",
        "plt.plot(epochs, loss, \"b\", label=\"Training loss\", color=\"r\") # plots the training loss as a red line with \"Training loss\" as its label\n",
        "plt.plot(epochs, acc, \"b\", label=\"Training accuracy\") # plots the training accuracy as a blue line with \"Training accuracy\" as its label\n",
        "plt.title(\"Training loss and accuracy\") # sets the title of the plot.\n",
        "plt.legend() # adds a legend to the plot\n",
        "plt.show()"
      ],
      "metadata": {
        "colab": {
          "base_uri": "https://localhost:8080/",
          "height": 507
        },
        "id": "SXCHcNU4lzDH",
        "outputId": "eabb95fb-a59a-44c9-db79-c21cdf6acd6a"
      },
      "execution_count": 14,
      "outputs": [
        {
          "output_type": "stream",
          "name": "stderr",
          "text": [
            "<ipython-input-14-768f9ee2654c>:5: UserWarning: color is redundantly defined by the 'color' keyword argument and the fmt string \"b\" (-> color=(0.0, 0.0, 1.0, 1)). The keyword argument will take precedence.\n",
            "  plt.plot(epochs, loss, \"b\", label=\"Training loss\", color=\"r\")\n"
          ]
        },
        {
          "output_type": "display_data",
          "data": {
            "text/plain": [
              "<Figure size 640x480 with 1 Axes>"
            ],
            "image/png": "[encoded data removed]"
          },
          "metadata": {}
        }
      ]
    },
    {
      "cell_type": "markdown",
      "source": [
        "## Evaluating Model Accuracy on Test Data"
      ],
      "metadata": {
        "id": "-W28sMQbl7gC"
      }
    },
    {
      "cell_type": "code",
      "source": [
        "test_loss, test_accuracy = model.evaluate(test_data, test_label)\n",
        "print(\"Model Accuracy is: \", test_accuracy)"
      ],
      "metadata": {
        "colab": {
          "base_uri": "https://localhost:8080/"
        },
        "id": "fgwnPk7ml-ds",
        "outputId": "9c1d7116-ee38-41a9-c58d-e02bf91a5a3f"
      },
      "execution_count": 15,
      "outputs": [
        {
          "output_type": "stream",
          "name": "stdout",
          "text": [
            "234/234 [==============================] - 3s 12ms/step - loss: 0.0440 - accuracy: 0.9892\n",
            "Model Accuracy:  0.989163875579834\n"
          ]
        }
      ]
    },
    {
      "cell_type": "markdown",
      "source": [
        "During the evaluation on the test dataset, the model achieved an accuracy of 0.9891 and a loss of 0.0440. This means that the model predicted the correct label for 98.91% of the test images which is pretty good for 2 layer CNN"
      ],
      "metadata": {
        "id": "a5_KA4BwmM_c"
      }
    },
    {
      "cell_type": "markdown",
      "source": [
        "# Conclusion\n",
        "\n"
      ],
      "metadata": {
        "id": "XfRXwRcG9V1p"
      }
    }
  ]
}